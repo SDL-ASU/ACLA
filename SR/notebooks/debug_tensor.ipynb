{
 "cells": [
  {
   "cell_type": "code",
   "execution_count": 4,
   "metadata": {},
   "outputs": [],
   "source": [
    "import torch\n",
    "ids0 = torch.Tensor([[1,2,3], [21,22,23]])"
   ]
  },
  {
   "cell_type": "code",
   "execution_count": 6,
   "metadata": {},
   "outputs": [
    {
     "name": "stdout",
     "output_type": "stream",
     "text": [
      "tensor([[ 1.,  2.,  3.],\n",
      "        [21., 22., 23.]])\n",
      "torch.Size([2, 3])\n"
     ]
    }
   ],
   "source": [
    "print(ids0)\n",
    "print(ids0.shape)"
   ]
  },
  {
   "cell_type": "code",
   "execution_count": 14,
   "metadata": {},
   "outputs": [],
   "source": [
    "index = torch.Tensor([[0, 1], [0,2]])\n",
    "index = index.long()\n",
    "result = torch.index_select(ids0[1], 0, index[1])"
   ]
  },
  {
   "cell_type": "code",
   "execution_count": 15,
   "metadata": {},
   "outputs": [
    {
     "name": "stdout",
     "output_type": "stream",
     "text": [
      "tensor([21., 23.])\n"
     ]
    }
   ],
   "source": [
    "print(result)"
   ]
  },
  {
   "cell_type": "code",
   "execution_count": 24,
   "metadata": {},
   "outputs": [],
   "source": [
    "a = torch.tensor([11, 12])\n",
    "b = torch.tensor([21, 22])\n",
    "c = torch.tensor([31, 32])\n",
    "\n",
    "x = torch.cat((a.expand([1,2]), b.expand([1,2])), dim=0)\n",
    "x = torch.cat((x, c.expand([1,2])), dim=0)"
   ]
  },
  {
   "cell_type": "code",
   "execution_count": 25,
   "metadata": {},
   "outputs": [
    {
     "name": "stdout",
     "output_type": "stream",
     "text": [
      "torch.Size([3, 2])\n"
     ]
    }
   ],
   "source": [
    "print(x.shape)"
   ]
  },
  {
   "cell_type": "code",
   "execution_count": null,
   "metadata": {},
   "outputs": [],
   "source": [
    "print(x.transpose())"
   ]
  },
  {
   "cell_type": "code",
   "execution_count": null,
   "metadata": {},
   "outputs": [],
   "source": []
  },
  {
   "cell_type": "code",
   "execution_count": null,
   "metadata": {},
   "outputs": [],
   "source": []
  },
  {
   "cell_type": "code",
   "execution_count": 29,
   "metadata": {},
   "outputs": [
    {
     "name": "stdout",
     "output_type": "stream",
     "text": [
      "torch.Size([2, 3, 4])\n",
      "tensor([0.2689, 0.3610, 0.9743, 0.8527])\n"
     ]
    }
   ],
   "source": [
    "import torch\n",
    "A = torch.rand(2,3,4)\n",
    "print(A.shape)\n",
    "print(A[0][0])\n",
    "B = torch.Tensor([[0, 1], [0,2], [2, 2]])"
   ]
  },
  {
   "cell_type": "code",
   "execution_count": 30,
   "metadata": {},
   "outputs": [],
   "source": [
    "dummy = B.unsqueeze(0).expand(A.size(0), B.size(0), B.size(1))\n",
    "\n",
    "out = torch.gather(A, 2, dummy.to(torch.int64))"
   ]
  },
  {
   "cell_type": "code",
   "execution_count": 33,
   "metadata": {},
   "outputs": [
    {
     "name": "stdout",
     "output_type": "stream",
     "text": [
      "tensor([0.8189, 0.8842])\n"
     ]
    }
   ],
   "source": [
    "print(out[0][1])"
   ]
  },
  {
   "cell_type": "code",
   "execution_count": 35,
   "metadata": {},
   "outputs": [
    {
     "name": "stdout",
     "output_type": "stream",
     "text": [
      "tensor([0.8189, 0.1788, 0.8842, 0.8710])\n"
     ]
    }
   ],
   "source": [
    "print(A[0][1])"
   ]
  },
  {
   "cell_type": "code",
   "execution_count": null,
   "metadata": {},
   "outputs": [],
   "source": []
  },
  {
   "cell_type": "code",
   "execution_count": 58,
   "metadata": {},
   "outputs": [
    {
     "name": "stdout",
     "output_type": "stream",
     "text": [
      "torch.Size([1, 1, 2, 4])\n",
      "tensor([[[[0.1812, 0.2549, 0.7230],\n",
      "          [0.0119, 0.5052, 0.1972]]]])\n",
      "tensor([[[[0.1812, 0.2549, 0.7230, 0.0000],\n",
      "          [0.0119, 0.5052, 0.1972, 0.0000]]]])\n"
     ]
    }
   ],
   "source": [
    "import torch.nn.functional as F\n",
    "v = torch.rand(1,1,2,3)\n",
    "padded_v = F.pad(input=v, pad=[0, 1], mode='constant', value=0)\n",
    "print(padded_v.shape)\n",
    "print(v)\n",
    "print(padded_v)"
   ]
  },
  {
   "cell_type": "code",
   "execution_count": null,
   "metadata": {},
   "outputs": [],
   "source": []
  },
  {
   "cell_type": "code",
   "execution_count": 43,
   "metadata": {},
   "outputs": [
    {
     "name": "stdout",
     "output_type": "stream",
     "text": [
      "torch.Size([3, 4])\n",
      "torch.Size([3, 2])\n"
     ]
    }
   ],
   "source": [
    "A = torch.rand(3,4)\n",
    "print(A.shape)\n",
    "B = torch.Tensor([[0, 1], [0,2], [2, 2]])\n",
    "print(B.shape)\n",
    "out = torch.gather(A, -1, B.to(torch.int64))"
   ]
  },
  {
   "cell_type": "code",
   "execution_count": 47,
   "metadata": {},
   "outputs": [
    {
     "name": "stdout",
     "output_type": "stream",
     "text": [
      "tensor([0.1618, 0.5508, 0.7262, 0.0419])\n",
      "tensor([0.7262, 0.7262])\n"
     ]
    }
   ],
   "source": [
    "print(A[2])\n",
    "print(out[2])"
   ]
  },
  {
   "cell_type": "code",
   "execution_count": 62,
   "metadata": {},
   "outputs": [
    {
     "name": "stdout",
     "output_type": "stream",
     "text": [
      "torch.Size([3, 4])\n"
     ]
    }
   ],
   "source": [
    "A = torch.rand(3,4)\n",
    "print(A.shape)"
   ]
  },
  {
   "cell_type": "code",
   "execution_count": 63,
   "metadata": {},
   "outputs": [
    {
     "name": "stdout",
     "output_type": "stream",
     "text": [
      "tensor([[[[0.1214, 0.7385, 0.4573, 0.9691],\n",
      "          [0.8167, 0.2544, 0.7291, 0.8528],\n",
      "          [0.4809, 0.7693, 0.2339, 0.4044]]]])\n"
     ]
    }
   ],
   "source": [
    "print(A.view(1,1,A.shape[0], A.shape[1]))"
   ]
  },
  {
   "cell_type": "code",
   "execution_count": 61,
   "metadata": {},
   "outputs": [
    {
     "name": "stdout",
     "output_type": "stream",
     "text": [
      "4\n"
     ]
    }
   ],
   "source": [
    "print(A.shape[-1])"
   ]
  },
  {
   "cell_type": "code",
   "execution_count": null,
   "metadata": {},
   "outputs": [],
   "source": []
  },
  {
   "cell_type": "code",
   "execution_count": 88,
   "metadata": {},
   "outputs": [
    {
     "name": "stdout",
     "output_type": "stream",
     "text": [
      "torch.Size([1, 1, 5, 2])\n",
      "torch.Size([3, 4, 5, 2])\n"
     ]
    }
   ],
   "source": [
    "# Scatter \n",
    "A=torch.zeros(3,4,5,6)\n",
    "B=torch.rand(3,4,5,2)\n",
    "index = torch.tensor([[1, 2], [2, 3], [3,4], [3,1], [2,2]])\n",
    "print(index.unsqueeze(0).unsqueeze(0).shape)\n",
    "expand_index = index.unsqueeze(0).unsqueeze(0).expand(3,4,5,2)\n",
    "print(expand_index.shape)"
   ]
  },
  {
   "cell_type": "code",
   "execution_count": 90,
   "metadata": {},
   "outputs": [],
   "source": [
    "C = torch.scatter(A, -1, expand_index.to(torch.int64), B)"
   ]
  },
  {
   "cell_type": "code",
   "execution_count": 91,
   "metadata": {},
   "outputs": [
    {
     "name": "stdout",
     "output_type": "stream",
     "text": [
      "tensor([[[[0.0000, 0.5060, 0.3104, 0.0000, 0.0000, 0.0000],\n",
      "          [0.0000, 0.0000, 0.6218, 0.6796, 0.0000, 0.0000],\n",
      "          [0.0000, 0.0000, 0.0000, 0.0240, 0.8735, 0.0000],\n",
      "          [0.0000, 0.7898, 0.0000, 0.6231, 0.0000, 0.0000],\n",
      "          [0.0000, 0.0000, 0.5812, 0.0000, 0.0000, 0.0000]],\n",
      "\n",
      "         [[0.0000, 0.2797, 0.6146, 0.0000, 0.0000, 0.0000],\n",
      "          [0.0000, 0.0000, 0.7329, 0.9637, 0.0000, 0.0000],\n",
      "          [0.0000, 0.0000, 0.0000, 0.8104, 0.0948, 0.0000],\n",
      "          [0.0000, 0.4308, 0.0000, 0.6453, 0.0000, 0.0000],\n",
      "          [0.0000, 0.0000, 0.2734, 0.0000, 0.0000, 0.0000]],\n",
      "\n",
      "         [[0.0000, 0.1776, 0.0049, 0.0000, 0.0000, 0.0000],\n",
      "          [0.0000, 0.0000, 0.2946, 0.3955, 0.0000, 0.0000],\n",
      "          [0.0000, 0.0000, 0.0000, 0.5659, 0.8462, 0.0000],\n",
      "          [0.0000, 0.4335, 0.0000, 0.6527, 0.0000, 0.0000],\n",
      "          [0.0000, 0.0000, 0.1535, 0.0000, 0.0000, 0.0000]],\n",
      "\n",
      "         [[0.0000, 0.4080, 0.4012, 0.0000, 0.0000, 0.0000],\n",
      "          [0.0000, 0.0000, 0.6611, 0.2705, 0.0000, 0.0000],\n",
      "          [0.0000, 0.0000, 0.0000, 0.2952, 0.0802, 0.0000],\n",
      "          [0.0000, 0.7750, 0.0000, 0.1459, 0.0000, 0.0000],\n",
      "          [0.0000, 0.0000, 0.4838, 0.0000, 0.0000, 0.0000]]],\n",
      "\n",
      "\n",
      "        [[[0.0000, 0.6824, 0.2612, 0.0000, 0.0000, 0.0000],\n",
      "          [0.0000, 0.0000, 0.7095, 0.3947, 0.0000, 0.0000],\n",
      "          [0.0000, 0.0000, 0.0000, 0.8899, 0.1907, 0.0000],\n",
      "          [0.0000, 0.4786, 0.0000, 0.8820, 0.0000, 0.0000],\n",
      "          [0.0000, 0.0000, 0.8392, 0.0000, 0.0000, 0.0000]],\n",
      "\n",
      "         [[0.0000, 0.2189, 0.7360, 0.0000, 0.0000, 0.0000],\n",
      "          [0.0000, 0.0000, 0.8122, 0.8696, 0.0000, 0.0000],\n",
      "          [0.0000, 0.0000, 0.0000, 0.6612, 0.9619, 0.0000],\n",
      "          [0.0000, 0.7619, 0.0000, 0.9402, 0.0000, 0.0000],\n",
      "          [0.0000, 0.0000, 0.5027, 0.0000, 0.0000, 0.0000]],\n",
      "\n",
      "         [[0.0000, 0.5984, 0.6922, 0.0000, 0.0000, 0.0000],\n",
      "          [0.0000, 0.0000, 0.2596, 0.8950, 0.0000, 0.0000],\n",
      "          [0.0000, 0.0000, 0.0000, 0.8385, 0.1727, 0.0000],\n",
      "          [0.0000, 0.9208, 0.0000, 0.4565, 0.0000, 0.0000],\n",
      "          [0.0000, 0.0000, 0.7001, 0.0000, 0.0000, 0.0000]],\n",
      "\n",
      "         [[0.0000, 0.4943, 0.6498, 0.0000, 0.0000, 0.0000],\n",
      "          [0.0000, 0.0000, 0.2250, 0.8207, 0.0000, 0.0000],\n",
      "          [0.0000, 0.0000, 0.0000, 0.3498, 0.5011, 0.0000],\n",
      "          [0.0000, 0.9290, 0.0000, 0.4907, 0.0000, 0.0000],\n",
      "          [0.0000, 0.0000, 0.7793, 0.0000, 0.0000, 0.0000]]],\n",
      "\n",
      "\n",
      "        [[[0.0000, 0.1537, 0.8691, 0.0000, 0.0000, 0.0000],\n",
      "          [0.0000, 0.0000, 0.0152, 0.3625, 0.0000, 0.0000],\n",
      "          [0.0000, 0.0000, 0.0000, 0.8974, 0.7880, 0.0000],\n",
      "          [0.0000, 0.7004, 0.0000, 0.5541, 0.0000, 0.0000],\n",
      "          [0.0000, 0.0000, 0.3139, 0.0000, 0.0000, 0.0000]],\n",
      "\n",
      "         [[0.0000, 0.0122, 0.9927, 0.0000, 0.0000, 0.0000],\n",
      "          [0.0000, 0.0000, 0.0743, 0.8071, 0.0000, 0.0000],\n",
      "          [0.0000, 0.0000, 0.0000, 0.0940, 0.3365, 0.0000],\n",
      "          [0.0000, 0.5382, 0.0000, 0.0213, 0.0000, 0.0000],\n",
      "          [0.0000, 0.0000, 0.2438, 0.0000, 0.0000, 0.0000]],\n",
      "\n",
      "         [[0.0000, 0.6052, 0.6331, 0.0000, 0.0000, 0.0000],\n",
      "          [0.0000, 0.0000, 0.6243, 0.3033, 0.0000, 0.0000],\n",
      "          [0.0000, 0.0000, 0.0000, 0.7456, 0.3070, 0.0000],\n",
      "          [0.0000, 0.7702, 0.0000, 0.1496, 0.0000, 0.0000],\n",
      "          [0.0000, 0.0000, 0.9692, 0.0000, 0.0000, 0.0000]],\n",
      "\n",
      "         [[0.0000, 0.4982, 0.7749, 0.0000, 0.0000, 0.0000],\n",
      "          [0.0000, 0.0000, 0.9338, 0.2825, 0.0000, 0.0000],\n",
      "          [0.0000, 0.0000, 0.0000, 0.2617, 0.8791, 0.0000],\n",
      "          [0.0000, 0.6275, 0.0000, 0.9139, 0.0000, 0.0000],\n",
      "          [0.0000, 0.0000, 0.7095, 0.0000, 0.0000, 0.0000]]]])\n"
     ]
    }
   ],
   "source": [
    "print(C)"
   ]
  },
  {
   "cell_type": "code",
   "execution_count": null,
   "metadata": {},
   "outputs": [],
   "source": []
  }
 ],
 "metadata": {
  "kernelspec": {
   "display_name": "Python 3",
   "language": "python",
   "name": "python3"
  },
  "language_info": {
   "codemirror_mode": {
    "name": "ipython",
    "version": 3
   },
   "file_extension": ".py",
   "mimetype": "text/x-python",
   "name": "python",
   "nbconvert_exporter": "python",
   "pygments_lexer": "ipython3",
   "version": "3.6.13"
  }
 },
 "nbformat": 4,
 "nbformat_minor": 4
}
